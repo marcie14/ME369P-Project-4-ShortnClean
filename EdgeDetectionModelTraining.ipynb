{
  "nbformat": 4,
  "nbformat_minor": 0,
  "metadata": {
    "colab": {
      "name": "EdgeDetectionModelTraining",
      "provenance": []
    },
    "kernelspec": {
      "name": "python3",
      "display_name": "Python 3"
    },
    "language_info": {
      "name": "python"
    }
  },
  "cells": [
    {
      "cell_type": "code",
      "execution_count": null,
      "metadata": {
        "colab": {
          "base_uri": "https://localhost:8080/"
        },
        "id": "tOyXi6m72H6q",
        "outputId": "8577bb9e-20ad-4f11-d838-bd249d275f51"
      },
      "outputs": [
        {
          "output_type": "stream",
          "name": "stdout",
          "text": [
            "Drive already mounted at /content/drive; to attempt to forcibly remount, call drive.mount(\"/content/drive\", force_remount=True).\n"
          ]
        }
      ],
      "source": [
        "import cv2\n",
        "import os\n",
        "import numpy as np\n",
        "import matplotlib.pyplot as plt\n",
        "import tensorflow as tf\n",
        "import tensorflow_datasets as tfds\n",
        "import random\n",
        "keras = tf.keras\n",
        "from keras.utils import np_utils\n",
        "tfds.disable_progress_bar()\n",
        "# We need to save this directly to our drive\n",
        "from google.colab import drive\n",
        "drive.mount('/content/drive')"
      ]
    },
    {
      "cell_type": "code",
      "source": [
        "data = []\n",
        "folders = [\"rockedge\", \"paperedge\", \"scissorsedge\", \"noneedge\"]\n",
        "for folder in folders:\n",
        "  dir = f\"/content/drive/MyDrive/ME_369P_Project_Data/{folder}\"\n",
        "  for item in os.listdir(dir):\n",
        "      if item.endswith(\"jpg\"):\n",
        "        img = cv2.imread(os.path.join(dir, item))\n",
        "        img = cv2.resize(img, (224, 224))\n",
        "        data.append([img, folder])\n",
        "random.shuffle(data)"
      ],
      "metadata": {
        "id": "YG7Aw79V2MlU"
      },
      "execution_count": null,
      "outputs": []
    },
    {
      "cell_type": "code",
      "source": [
        "# Now that we have our data, we need to convert it into integers based on the map so we can make predictions\n",
        "CLASS_MAP = {\n",
        "    \"rockedge\": 0,\n",
        "    \"paperedge\": 1,\n",
        "    \"scissorsedge\": 2,\n",
        "    \"noneedge\": 3\n",
        "}\n",
        "\n",
        "def mapper(val):\n",
        "    return CLASS_MAP[val]\n",
        "\n",
        "image, labels = zip(*data)\n",
        "labels = list(map(mapper, labels))\n",
        "labels = np_utils.to_categorical(labels)\n",
        "labels = np.asarray(labels).astype('int32')\n",
        "image = np.asarray(image)"
      ],
      "metadata": {
        "id": "BNkSxRq42kuA"
      },
      "execution_count": null,
      "outputs": []
    },
    {
      "cell_type": "code",
      "source": [
        "start_model = tf.keras.applications.MobileNetV2(input_shape=(224, 224, 3),\n",
        "                                               include_top=False,\n",
        "                                               weights='imagenet')\n",
        "\n",
        "start_model.trainable = False\n",
        "\n",
        "# define the model\n",
        "model = keras.Sequential([\n",
        "        start_model,\n",
        "        keras.layers.Dropout(0.5),\n",
        "        keras.layers.Convolution2D(4, (1, 1), padding='valid'),\n",
        "        keras.layers.Activation('relu'),\n",
        "        keras.layers.GlobalAveragePooling2D(),\n",
        "        keras.layers.Activation('softmax')\n",
        "    ])\n",
        "model.compile(\n",
        "    optimizer=keras.optimizers.Adam(lr=0.0001),\n",
        "    loss='categorical_crossentropy',\n",
        "    metrics=['accuracy']\n",
        ")"
      ],
      "metadata": {
        "colab": {
          "base_uri": "https://localhost:8080/"
        },
        "id": "pmZIWBTt2p9o",
        "outputId": "4d856a4a-f717-428f-f765-0ad8c0c4560c"
      },
      "execution_count": null,
      "outputs": [
        {
          "output_type": "stream",
          "name": "stderr",
          "text": [
            "/usr/local/lib/python3.7/dist-packages/keras/optimizer_v2/adam.py:105: UserWarning: The `lr` argument is deprecated, use `learning_rate` instead.\n",
            "  super(Adam, self).__init__(name, **kwargs)\n"
          ]
        }
      ]
    },
    {
      "cell_type": "code",
      "source": [
        "# Now we can train it on our images\n",
        "history = model.fit(x=image,\n",
        "    y=labels,\n",
        "    epochs=15,\n",
        "    verbose=1)\n",
        "\n",
        "acc = history.history['accuracy']\n",
        "print(acc)"
      ],
      "metadata": {
        "colab": {
          "base_uri": "https://localhost:8080/"
        },
        "id": "b7n5Q4Yf2w2P",
        "outputId": "81be8bac-10cd-47c5-8b9a-731c6fd9268a"
      },
      "execution_count": null,
      "outputs": [
        {
          "output_type": "stream",
          "name": "stdout",
          "text": [
            "Epoch 1/15\n",
            "100/100 [==============================] - 117s 1s/step - loss: 1.2944 - accuracy: 0.4331\n",
            "Epoch 2/15\n",
            "100/100 [==============================] - 118s 1s/step - loss: 0.8712 - accuracy: 0.8119\n",
            "Epoch 3/15\n",
            "100/100 [==============================] - 113s 1s/step - loss: 0.5815 - accuracy: 0.9184\n",
            "Epoch 4/15\n",
            "100/100 [==============================] - 112s 1s/step - loss: 0.4337 - accuracy: 0.9513\n",
            "Epoch 5/15\n",
            "100/100 [==============================] - 114s 1s/step - loss: 0.3463 - accuracy: 0.9622\n",
            "Epoch 6/15\n",
            "100/100 [==============================] - 116s 1s/step - loss: 0.2833 - accuracy: 0.9712\n",
            "Epoch 7/15\n",
            "100/100 [==============================] - 113s 1s/step - loss: 0.2416 - accuracy: 0.9737\n",
            "Epoch 8/15\n",
            "100/100 [==============================] - 118s 1s/step - loss: 0.2106 - accuracy: 0.9794\n",
            "Epoch 9/15\n",
            "100/100 [==============================] - 116s 1s/step - loss: 0.1878 - accuracy: 0.9809\n",
            "Epoch 10/15\n",
            "100/100 [==============================] - 118s 1s/step - loss: 0.1680 - accuracy: 0.9834\n",
            "Epoch 11/15\n",
            "100/100 [==============================] - 117s 1s/step - loss: 0.1526 - accuracy: 0.9831\n",
            "Epoch 12/15\n",
            "100/100 [==============================] - 114s 1s/step - loss: 0.1382 - accuracy: 0.9866\n",
            "Epoch 13/15\n",
            "100/100 [==============================] - 115s 1s/step - loss: 0.1261 - accuracy: 0.9875\n",
            "Epoch 14/15\n",
            "100/100 [==============================] - 113s 1s/step - loss: 0.1170 - accuracy: 0.9881\n",
            "Epoch 15/15\n",
            "100/100 [==============================] - 111s 1s/step - loss: 0.1078 - accuracy: 0.9903\n",
            "[0.43312498927116394, 0.8118749856948853, 0.9184374809265137, 0.9512500166893005, 0.9621875286102295, 0.9712499976158142, 0.9737499952316284, 0.9793750047683716, 0.9809374809265137, 0.9834374785423279, 0.9831249713897705, 0.9865624904632568, 0.987500011920929, 0.9881250262260437, 0.9903125166893005]\n"
          ]
        }
      ]
    },
    {
      "cell_type": "code",
      "source": [
        "model.save(\"rpsedge2.h5\")"
      ],
      "metadata": {
        "id": "izcqStobDSQ5"
      },
      "execution_count": null,
      "outputs": []
    },
    {
      "cell_type": "code",
      "source": [
        "from google.colab import files\n",
        "files.download(\"rpsedge2.h5\")"
      ],
      "metadata": {
        "colab": {
          "base_uri": "https://localhost:8080/",
          "height": 16
        },
        "id": "uh5n5TCnDVkl",
        "outputId": "69352ff7-6252-492a-b6ea-df8e9e7e6472"
      },
      "execution_count": null,
      "outputs": [
        {
          "output_type": "display_data",
          "data": {
            "text/plain": [
              "<IPython.core.display.Javascript object>"
            ],
            "application/javascript": [
              "\n",
              "    async function download(id, filename, size) {\n",
              "      if (!google.colab.kernel.accessAllowed) {\n",
              "        return;\n",
              "      }\n",
              "      const div = document.createElement('div');\n",
              "      const label = document.createElement('label');\n",
              "      label.textContent = `Downloading \"${filename}\": `;\n",
              "      div.appendChild(label);\n",
              "      const progress = document.createElement('progress');\n",
              "      progress.max = size;\n",
              "      div.appendChild(progress);\n",
              "      document.body.appendChild(div);\n",
              "\n",
              "      const buffers = [];\n",
              "      let downloaded = 0;\n",
              "\n",
              "      const channel = await google.colab.kernel.comms.open(id);\n",
              "      // Send a message to notify the kernel that we're ready.\n",
              "      channel.send({})\n",
              "\n",
              "      for await (const message of channel.messages) {\n",
              "        // Send a message to notify the kernel that we're ready.\n",
              "        channel.send({})\n",
              "        if (message.buffers) {\n",
              "          for (const buffer of message.buffers) {\n",
              "            buffers.push(buffer);\n",
              "            downloaded += buffer.byteLength;\n",
              "            progress.value = downloaded;\n",
              "          }\n",
              "        }\n",
              "      }\n",
              "      const blob = new Blob(buffers, {type: 'application/binary'});\n",
              "      const a = document.createElement('a');\n",
              "      a.href = window.URL.createObjectURL(blob);\n",
              "      a.download = filename;\n",
              "      div.appendChild(a);\n",
              "      a.click();\n",
              "      div.remove();\n",
              "    }\n",
              "  "
            ]
          },
          "metadata": {}
        },
        {
          "output_type": "display_data",
          "data": {
            "text/plain": [
              "<IPython.core.display.Javascript object>"
            ],
            "application/javascript": [
              "download(\"download_8a1e922d-014c-4633-883c-687c7d1a089a\", \"rpsedge2.h5\", 9407096)"
            ]
          },
          "metadata": {}
        }
      ]
    },
    {
      "cell_type": "code",
      "source": [
        ""
      ],
      "metadata": {
        "id": "-yj-q9ThDYub"
      },
      "execution_count": null,
      "outputs": []
    }
  ]
}